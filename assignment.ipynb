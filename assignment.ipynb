{
 "cells": [
  {
   "cell_type": "markdown",
   "metadata": {},
   "source": [
    "Opgave 1\n",
    "- Model an organisation of employees, management and board of directors in 3 sets."
   ]
  },
  {
   "cell_type": "code",
   "execution_count": 16,
   "metadata": {},
   "outputs": [
    {
     "name": "stdout",
     "output_type": "stream",
     "text": [
      "not Employees: {'Mille', 'Torben', 'Benny', 'Hans', 'Troels', 'Søren'}\n",
      "board of directors and Employee: {'Tine'}\n",
      "board of directors and management: {'Tine'}\n",
      "All members of the managent also an employee: True\n",
      "All members of the management also in the board: False\n",
      "Is all: {'Tine'}\n",
      "neither: {'Anna', 'Stine', 'Lars', 'James', 'Claus', 'Bent', 'Allan', 'Niels', 'Ole'}\n"
     ]
    }
   ],
   "source": [
    "boardOfDirectors = {\"Benny\", \"Hans\", \"Tine\", \"Mille\", \"Torben\", \"Troels\", \"Søren\"}\n",
    "management = {\"Tine\", \"Trunte\", \"Rane\"}\n",
    "employees = {\"Niels\", \"Anna\", \"Tine\", \"Ole\", \"Trunte\", \"Bent\", \"Rane\", \"Allan\", \"Stine\", \"Claus\", \"James\", \"Lars\"}\n",
    "\n",
    "#who in the board of directors is not an employee?\n",
    "notEmployee = boardOfDirectors - employees \n",
    "print(f\"not Employees: {notEmployee}\")\n",
    "\n",
    "#who in the board of directors is also an employee?\n",
    "boardAndEmployee = boardOfDirectors.intersection(employees)\n",
    "print(f\"board of directors and Employee: {boardAndEmployee}\")\n",
    "\n",
    "#how many of the management is also member of the board?\n",
    "managementAndBoard = management.intersection(boardOfDirectors)\n",
    "print(f\"board of directors and management: {managementAndBoard}\")\n",
    "\n",
    "#All members of the managent also an employee //skal return true eller false\n",
    "allManagementAreemployees = management.issubset(employees)\n",
    "print(f\"All members of the managent also an employee: {allManagementAreemployees}\")\n",
    "\n",
    "#All members of the management also in the board?\n",
    "allManagementAreboard = management.issubset(boardOfDirectors)\n",
    "print(f\"All members of the management also in the board: {allManagementAreboard}\")\n",
    "\n",
    "#Who is an employee, member of the management, and a member of the board?\n",
    "isAll = employees.intersection(management).intersection(boardOfDirectors)\n",
    "print(f\"Is all: {isAll}\")\n",
    "\n",
    "#Who of the employee is neither a memeber or the board or management?\n",
    "neither = employees - boardOfDirectors - management\n",
    "print(f\"neither: {neither}\")"
   ]
  },
  {
   "cell_type": "markdown",
   "metadata": {},
   "source": [
    "- Create a list of tuples from the folowing datastructure"
   ]
  },
  {
   "cell_type": "code",
   "execution_count": 17,
   "metadata": {},
   "outputs": [
    {
     "name": "stdout",
     "output_type": "stream",
     "text": [
      "[('a', 'Alpha'), ('b', 'Beta'), ('g', 'Gamma')]\n"
     ]
    }
   ],
   "source": [
    "data = {'a': 'Alpha', 'b': 'Beta', 'g': 'Gamma'}\n",
    "dataTuple = list(data.items())\n",
    "print(dataTuple)"
   ]
  },
  {
   "cell_type": "markdown",
   "metadata": {},
   "source": [
    "- 3 "
   ]
  },
  {
   "cell_type": "code",
   "execution_count": 19,
   "metadata": {},
   "outputs": [
    {
     "name": "stdout",
     "output_type": "stream",
     "text": [
      "{'u', 'a', 'o', 'y', 'å', 'i', 'ø', 'e', 'æ'}\n",
      "{'u', 'a', 'o', 'y', 'å', 'i', 'ø', 'e', 'æ'}\n",
      "{'å', 'ø', 'æ'}\n",
      "{'å', 'ø', 'æ'}\n",
      "{'å', 'æ', 'ø'}\n",
      "{'å', 'æ', 'ø'}\n",
      "False\n"
     ]
    }
   ],
   "source": [
    "set1 = {'a', 'e', 'i', 'o', 'u', 'y'}\n",
    "set2 = {'a', 'e', 'i', 'o', 'u', 'y', 'æ', 'ø', 'å'}\n",
    "\n",
    "#union\n",
    "union1 = set1.union(set2)\n",
    "union2 = set1 | set2\n",
    "\n",
    "print(union1)\n",
    "print(union2)\n",
    "\n",
    "#Symmetric Difference:\n",
    "symmetricDifference1 = set1.symmetric_difference(set2)\n",
    "symmetricDifference2 = set1 ^ set2\n",
    "\n",
    "print(symmetricDifference1)\n",
    "print(symmetricDifference2)\n",
    "\n",
    "#Difference\n",
    "difference1 = set2.difference(set1)\n",
    "difference2 = set2 - set1\n",
    "\n",
    "print(difference1)\n",
    "print(difference2)\n",
    "\n",
    "#Disjoint //true hvis sets har intet tilfælles\n",
    "disjoint = set1.isdisjoint(set2)\n",
    "print(disjoint)"
   ]
  },
  {
   "cell_type": "markdown",
   "metadata": {},
   "source": [
    "- 4 Date Decoder"
   ]
  },
  {
   "cell_type": "code",
   "execution_count": 21,
   "metadata": {},
   "outputs": [
    {
     "name": "stdout",
     "output_type": "stream",
     "text": [
      "(1985, 3, 8)\n"
     ]
    }
   ],
   "source": [
    "months = {\n",
    "    \"JAN\": 1, \"FEB\": 2, \"MAR\": 3, \"APR\": 4, \"MAY\": 5, \"JUN\": 6,\n",
    "    \"JUL\": 7, \"AUG\": 8, \"SEP\": 9, \"OCT\": 10, \"NOV\": 11, \"DEC\": 12\n",
    "}\n",
    "\n",
    "def decodeDate(date):\n",
    "\n",
    "    # Spliter string ved \"-\"\n",
    "    day, month, year = date.split(\"-\")\n",
    "\n",
    "    # Find måned\n",
    "    monthNum = months[month]\n",
    "\n",
    "    if 0 <= int(year) and int(year) <= 21:\n",
    "        year = \"20\" + year\n",
    "    else:\n",
    "        year = \"19\" + year\n",
    "\n",
    "    return (int(year), monthNum, int(day))\n",
    "\n",
    "date = \"8-MAR-85\"\n",
    "print(decodeDate(date))\n"
   ]
  },
  {
   "cell_type": "markdown",
   "metadata": {},
   "source": [
    "- 5 party\n"
   ]
  },
  {
   "cell_type": "code",
   "execution_count": 23,
   "metadata": {},
   "outputs": [
    {
     "name": "stdout",
     "output_type": "stream",
     "text": [
      "invited, not rsvped {'Lars', 'Malthe'}\n",
      "not invited, rspved: {'Jesper', 'Mads'}\n",
      "invited and rspved: {'Tommy', 'Hans'}\n"
     ]
    }
   ],
   "source": [
    "\n",
    "invited = {\"Lars\", \"Malthe\", \"Tommy\", \"Hans\"}\n",
    "rsvped = {\"Tommy\", \"Jesper\", \"Hans\", \"Mads\"}\n",
    "\n",
    "def party(invited, rsvped):\n",
    "\n",
    "    notRsvped = invited - rsvped\n",
    "\n",
    "    notInvited = rsvped - invited\n",
    "   \n",
    "    both = invited & rsvped\n",
    "\n",
    "    print(\"invited, not rsvped\", notRsvped)\n",
    "    print(\"not invited, rspved:\", notInvited)\n",
    "    print(\"invited and rspved:\", both)\n",
    "\n",
    "\n",
    "\n",
    "party(invited, rsvped)\n"
   ]
  },
  {
   "cell_type": "markdown",
   "metadata": {},
   "source": [
    "- opgave 6"
   ]
  },
  {
   "cell_type": "code",
   "execution_count": 26,
   "metadata": {},
   "outputs": [
    {
     "name": "stdout",
     "output_type": "stream",
     "text": [
      "Students with grades over 85:\n",
      "Mette\n",
      "Yasin\n"
     ]
    }
   ],
   "source": [
    "grades = {\n",
    "    \"Mette\": 82,\n",
    "    \"Bob\": 47,\n",
    "    \"Yasin\": 90,\n",
    "    \"David\": 78,\n",
    "    \"Hassan\": 66\n",
    "}\n",
    "\n",
    "updates = {\"Mette\": 88, \"David\": 9}\n",
    "\n",
    "def studentGrades(grades, updates):\n",
    "\n",
    "    #Student er key, newGrade er value\n",
    "    for student, newGrade in updates.items(): #laver dictionary til tupler\n",
    "        grades[student] = newGrade\n",
    "\n",
    "    print(\"Students with grades over 85:\")\n",
    "    for student, grade in grades.items():\n",
    "        if grade > 85:\n",
    "            print(student)\n",
    "\n",
    "\n",
    "\n",
    "studentGrades(grades, updates)\n"
   ]
  }
 ],
 "metadata": {
  "kernelspec": {
   "display_name": "Python 3.11.4 64-bit",
   "language": "python",
   "name": "python3"
  },
  "language_info": {
   "codemirror_mode": {
    "name": "ipython",
    "version": 3
   },
   "file_extension": ".py",
   "mimetype": "text/x-python",
   "name": "python",
   "nbconvert_exporter": "python",
   "pygments_lexer": "ipython3",
   "version": "3.11.4"
  },
  "orig_nbformat": 4,
  "vscode": {
   "interpreter": {
    "hash": "aee8b7b246df8f9039afb4144a1f6fd8d2ca17a180786b69acc140d282b71a49"
   }
  }
 },
 "nbformat": 4,
 "nbformat_minor": 2
}
